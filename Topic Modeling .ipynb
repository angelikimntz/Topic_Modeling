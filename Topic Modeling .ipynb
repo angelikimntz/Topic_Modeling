{
 "cells": [
  {
   "cell_type": "markdown",
   "id": "e8a545ad",
   "metadata": {},
   "source": [
    "# TOPIC MODELING "
   ]
  },
  {
   "cell_type": "markdown",
   "id": "1c11c840",
   "metadata": {},
   "source": [
    "## Install & Import  Libraries"
   ]
  },
  {
   "cell_type": "code",
   "execution_count": null,
   "id": "3c5f6d32",
   "metadata": {},
   "outputs": [],
   "source": [
    "!pip install tomotopy\n",
    "import pandas as pd\n",
    "import tomotopy as tp\n",
    "from nltk.corpus import stopwords\n",
    "from nltk.tokenize import word_tokenize\n",
    "import random \n",
    "import csv"
   ]
  },
  {
   "cell_type": "markdown",
   "id": "9147f504",
   "metadata": {},
   "source": [
    "## Setting stopwords\n"
   ]
  },
  {
   "cell_type": "code",
   "execution_count": null,
   "id": "a91c45f2",
   "metadata": {},
   "outputs": [],
   "source": [
    "sw=set(stopwords.words('english'))"
   ]
  },
  {
   "cell_type": "markdown",
   "id": "1ec56e0a",
   "metadata": {},
   "source": [
    "## Function"
   ]
  },
  {
   "cell_type": "markdown",
   "id": "9cfd1935",
   "metadata": {},
   "source": [
    "*Convert each document to a list of words*"
   ]
  },
  {
   "cell_type": "code",
   "execution_count": null,
   "id": "315839d5",
   "metadata": {},
   "outputs": [],
   "source": [
    "def tokenizer(doc,sw):\n",
    "    return [word for word in word_tokenize(doc.lower()) if word not in sw and len(word)>2]"
   ]
  },
  {
   "cell_type": "markdown",
   "id": "adecf702",
   "metadata": {},
   "source": [
    "## Open the file with the documents"
   ]
  },
  {
   "cell_type": "code",
   "execution_count": null,
   "id": "0a27c26c",
   "metadata": {
    "scrolled": true
   },
   "outputs": [],
   "source": [
    "docs=[] \n",
    "f=open(\"Enter your csv file\", encoding=\"utf8\")\n",
    "df=pd.read_csv(f)\n",
    "text=df['input']\n",
    "for doc in text: \n",
    "    docs.append(tokenizer(doc,sw)) \n",
    "f.close()"
   ]
  },
  {
   "cell_type": "markdown",
   "id": "1014ddd4",
   "metadata": {},
   "source": [
    "## Create & train  LDA models"
   ]
  },
  {
   "cell_type": "markdown",
   "id": "d99c68d5",
   "metadata": {},
   "source": [
    "*After testing k parameter and evaluating the topk words results for each of them, I came to the conclusion of the apropriate k number*"
   ]
  },
  {
   "cell_type": "code",
   "execution_count": null,
   "id": "a490a91e",
   "metadata": {
    "scrolled": true
   },
   "outputs": [],
   "source": [
    "model = tp.LDAModel(k=input your int) \n",
    "\n",
    "for doc in docs:\n",
    "    model.add_doc(doc)\n",
    "        \n",
    "for i in range(0, 500,10):\n",
    "    model.train(10)\n",
    "    print('Iteration: {}\\tLog-likelihood: {}'.format(i, model.ll_per_word)) \n"
   ]
  },
  {
   "cell_type": "code",
   "execution_count": null,
   "id": "7ecc5652",
   "metadata": {},
   "outputs": [],
   "source": [
    "for k in range(model.k):\n",
    "  \n",
    "    topk_words=[pair[0] for pair in model.get_topic_words(k, top_n=15)] \n",
    "    print(k,topk_words)\n",
    "    print()"
   ]
  },
  {
   "cell_type": "markdown",
   "id": "02224f93",
   "metadata": {},
   "source": [
    "## Creating a CSV file "
   ]
  },
  {
   "cell_type": "code",
   "execution_count": null,
   "id": "af0a78e9",
   "metadata": {},
   "outputs": [],
   "source": [
    "with open('Enter your csv file', 'w', newline='') as csvfile:\n",
    "    writer = csv.writer(csvfile)\n",
    "    writer.writerow(['topic id', 'topk_words'])  \n",
    "    for k in range(model.k):\n",
    "        topk_words = [pair[0] for pair in model.get_topic_words(k, top_n= enter your int)]\n",
    "        writer.writerow([k] + topk_words)"
   ]
  }
 ],
 "metadata": {
  "kernelspec": {
   "display_name": "Python 3 (ipykernel)",
   "language": "python",
   "name": "python3"
  },
  "language_info": {
   "codemirror_mode": {
    "name": "ipython",
    "version": 3
   },
   "file_extension": ".py",
   "mimetype": "text/x-python",
   "name": "python",
   "nbconvert_exporter": "python",
   "pygments_lexer": "ipython3",
   "version": "3.9.13"
  }
 },
 "nbformat": 4,
 "nbformat_minor": 5
}
